{
 "cells": [
  {
   "cell_type": "code",
   "execution_count": 1,
   "metadata": {
    "collapsed": true
   },
   "outputs": [],
   "source": [
    "import patsy\n",
    "import numpy as np\n",
    "import pandas as pd\n",
    "import matplotlib.pyplot as plt\n",
    "\n",
    "%matplotlib inline\n",
    "#To show matplotlib inline\n"
   ]
  },
  {
   "cell_type": "code",
   "execution_count": 2,
   "metadata": {
    "collapsed": true
   },
   "outputs": [],
   "source": [
    "\n",
    "rng = pd.date_range('1/1/2011', periods=72, freq='H')\n",
    "ts = pd.Series(np.random.randn(len(rng)), index=rng)\n",
    "full=ts.to_frame()"
   ]
  },
  {
   "cell_type": "code",
   "execution_count": 3,
   "metadata": {
    "collapsed": false
   },
   "outputs": [
    {
     "data": {
      "text/plain": [
       "2011-01-01 00:00:00    1.431491\n",
       "2011-01-01 01:00:00    0.202853\n",
       "2011-01-01 02:00:00    0.129711\n",
       "2011-01-01 03:00:00   -2.437267\n",
       "2011-01-01 04:00:00   -0.942471\n",
       "Freq: H, dtype: float64"
      ]
     },
     "execution_count": 3,
     "metadata": {},
     "output_type": "execute_result"
    }
   ],
   "source": [
    "ts.head()\n"
   ]
  },
  {
   "cell_type": "code",
   "execution_count": 4,
   "metadata": {
    "collapsed": true
   },
   "outputs": [],
   "source": [
    "#  Return a series where the absolute difference \n",
    "#  between a number and the next number in the series is less than .5\n",
    "less_than_a_half=ts[abs(ts.diff(periods=1))<.5]\n",
    "print less"
   ]
  },
  {
   "cell_type": "code",
   "execution_count": 5,
   "metadata": {
    "collapsed": false
   },
   "outputs": [
    {
     "data": {
      "text/plain": [
       "(array([-1.5, -1. , -0.5,  0. ,  0.5,  1. ,  1.5,  2. ]),\n",
       " <a list of 8 Text yticklabel objects>)"
      ]
     },
     "execution_count": 5,
     "metadata": {},
     "output_type": "execute_result"
    },
    {
     "data": {
      "image/png": "[encoded data removed]",
      "text/plain": [
       "<matplotlib.figure.Figure at 0xbffb7b8>"
      ]
     },
     "metadata": {},
     "output_type": "display_data"
    }
   ],
   "source": [
    "#Plot and show a Histogram of the Series\n",
    "df=less_than_a_half.to_frame()\n",
    "df.plot(kind='bar')\n",
    "plt.xlabel('value')\n",
    "plt.ylabel(\"Time\", fontsize=9) \n",
    "plt.yticks(fontsize=9)  \n"
   ]
  },
  {
   "cell_type": "code",
   "execution_count": 6,
   "metadata": {
    "collapsed": false
   },
   "outputs": [
    {
     "name": "stdout",
     "output_type": "stream",
     "text": [
      "<class 'pandas.core.frame.DataFrame'>\n",
      "DatetimeIndex: 22 entries, 2011-01-01 02:00:00 to 2011-01-03 20:00:00\n",
      "Data columns (total 1 columns):\n",
      "0    22 non-null float64\n",
      "dtypes: float64(1)\n",
      "memory usage: 352.0 bytes\n"
     ]
    },
    {
     "data": {
      "text/plain": [
       "2011-01-01 02:00:00    0.129711\n",
       "2011-01-01 05:00:00   -0.609605\n",
       "2011-01-01 07:00:00   -1.107266\n",
       "2011-01-01 09:00:00   -0.497354\n",
       "2011-01-01 10:00:00   -0.804275\n",
       "2011-01-01 14:00:00    0.988065\n",
       "2011-01-01 20:00:00   -0.137475\n",
       "2011-01-01 21:00:00   -0.162538\n",
       "2011-01-01 22:00:00    0.137690\n",
       "2011-01-01 23:00:00    0.379468\n",
       "2011-01-02 00:00:00   -0.075272\n",
       "2011-01-02 04:00:00    1.826147\n",
       "2011-01-02 06:00:00   -0.758303\n",
       "2011-01-02 08:00:00    0.789749\n",
       "2011-01-02 10:00:00   -0.962697\n",
       "2011-01-02 22:00:00   -0.068016\n",
       "2011-01-03 02:00:00    0.308145\n",
       "2011-01-03 11:00:00   -0.609028\n",
       "2011-01-03 12:00:00   -0.840415\n",
       "2011-01-03 13:00:00   -0.932360\n",
       "2011-01-03 18:00:00    0.198238\n",
       "2011-01-03 20:00:00    0.477858\n",
       "Name: 0, dtype: float64"
      ]
     },
     "execution_count": 6,
     "metadata": {},
     "output_type": "execute_result"
    }
   ],
   "source": [
    "df.info()\n",
    "df[0]"
   ]
  },
  {
   "cell_type": "code",
   "execution_count": 7,
   "metadata": {
    "collapsed": false
   },
   "outputs": [
    {
     "data": {
      "text/plain": [
       "<matplotlib.axes._subplots.AxesSubplot at 0xc2a7c88>"
      ]
     },
     "execution_count": 7,
     "metadata": {},
     "output_type": "execute_result"
    },
    {
     "data": {
      "image/png": "[encoded data removed]",
      "text/plain": [
       "<matplotlib.figure.Figure at 0xc342e48>"
      ]
     },
     "metadata": {},
     "output_type": "display_data"
    }
   ],
   "source": [
    "#  * Give me the rolling average of the series \n",
    "#  over the last 5 hours in a new column on a DataFrame\n",
    "\n",
    "col_name = \"Rolling average for the last 5 hours\" \n",
    "df[col_name]=pd.rolling_mean(df[0],5)\n",
    "df[[col_name]].plot(subplots=False,figsize=(10,4))"
   ]
  },
  {
   "cell_type": "code",
   "execution_count": 8,
   "metadata": {
    "collapsed": false
   },
   "outputs": [
    {
     "name": "stdout",
     "output_type": "stream",
     "text": [
      "<class 'pandas.core.frame.DataFrame'>\n",
      "DatetimeIndex: 22 entries, 2011-01-01 02:00:00 to 2011-01-03 20:00:00\n",
      "Data columns (total 2 columns):\n",
      "0                                       22 non-null float64\n",
      "Rolling average for the last 5 hours    18 non-null float64\n",
      "dtypes: float64(2)\n",
      "memory usage: 528.0 bytes\n"
     ]
    }
   ],
   "source": [
    "df.info()"
   ]
  },
  {
   "cell_type": "code",
   "execution_count": 9,
   "metadata": {
    "collapsed": false
   },
   "outputs": [
    {
     "data": {
      "text/plain": [
       "<matplotlib.axes._subplots.AxesSubplot at 0xc6eba58>"
      ]
     },
     "execution_count": 9,
     "metadata": {},
     "output_type": "execute_result"
    },
    {
     "data": {
      "image/png": "[encoded data removed]",
      "text/plain": [
       "<matplotlib.figure.Figure at 0xc342128>"
      ]
     },
     "metadata": {},
     "output_type": "display_data"
    }
   ],
   "source": [
    "#  Change any negative numbers in the new rolling average column to 0\n",
    "def positive_convert(x):\n",
    "    if x <0:\n",
    "        return 0\n",
    "    else:\n",
    "        return x\n",
    "df['Rolling average for the last 5 hours']=df[\"Rolling average for the last 5 hours\"].apply(positive_convert)\n",
    "df['Rolling average for the last 5 hours'].plot(subplots=False,figsize=(10,4))"
   ]
  },
  {
   "cell_type": "code",
   "execution_count": 10,
   "metadata": {
    "collapsed": true
   },
   "outputs": [],
   "source": [
    "# * Take your DataFrame and put it into Excel.\n",
    "#         * Make the width of the columns 20\n",
    "#         * Hide the gridlines on the excel sheet\n",
    "\n",
    "writer = pd.ExcelWriter('output.xlsx',engine='xlsxwriter')\n",
    "df.to_excel(writer,'Sheet1')\n",
    "writer.save()"
   ]
  },
  {
   "cell_type": "code",
   "execution_count": null,
   "metadata": {
    "collapsed": true
   },
   "outputs": [],
   "source": []
  }
 ],
 "metadata": {
  "kernelspec": {
   "display_name": "Python 2",
   "language": "python",
   "name": "python2"
  },
  "language_info": {
   "codemirror_mode": {
    "name": "ipython",
    "version": 2
   },
   "file_extension": ".py",
   "mimetype": "text/x-python",
   "name": "python",
   "nbconvert_exporter": "python",
   "pygments_lexer": "ipython2",
   "version": "2.7.10"
  }
 },
 "nbformat": 4,
 "nbformat_minor": 0
}
